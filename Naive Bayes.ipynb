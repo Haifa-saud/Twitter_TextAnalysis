{
 "cells": [
  {
   "cell_type": "code",
   "execution_count": 83,
   "id": "a7133f2e",
   "metadata": {},
   "outputs": [],
   "source": [
    "import pandas as pd\n",
    "from sklearn.naive_bayes import MultinomialNB\n",
    "from sklearn.naive_bayes import GaussianNB\n",
    "from sklearn.model_selection import train_test_split\n",
    "from sklearn.metrics import classification_report\n",
    "from sklearn import metrics\n",
    "from sklearn.metrics import accuracy_score, recall_score, f1_score,precision_score"
   ]
  },
  {
   "cell_type": "code",
   "execution_count": 84,
   "id": "5e4da452",
   "metadata": {},
   "outputs": [],
   "source": [
    "data = pd.read_csv(r\"/Users/lamawat/Downloads/tweetsLabels (1).csv\")"
   ]
  },
  {
   "cell_type": "code",
   "execution_count": 86,
   "id": "94573a51",
   "metadata": {},
   "outputs": [
    {
     "data": {
      "text/html": [
       "<div>\n",
       "<style scoped>\n",
       "    .dataframe tbody tr th:only-of-type {\n",
       "        vertical-align: middle;\n",
       "    }\n",
       "\n",
       "    .dataframe tbody tr th {\n",
       "        vertical-align: top;\n",
       "    }\n",
       "\n",
       "    .dataframe thead th {\n",
       "        text-align: right;\n",
       "    }\n",
       "</style>\n",
       "<table border=\"1\" class=\"dataframe\">\n",
       "  <thead>\n",
       "    <tr style=\"text-align: right;\">\n",
       "      <th></th>\n",
       "      <th>index</th>\n",
       "      <th>Text</th>\n",
       "      <th>Likes</th>\n",
       "      <th>Type</th>\n",
       "      <th>Label</th>\n",
       "    </tr>\n",
       "  </thead>\n",
       "  <tbody>\n",
       "    <tr>\n",
       "      <th>0</th>\n",
       "      <td>0</td>\n",
       "      <td>جبت لكم خبر مُذهل رائع وجمييييل ايهيرب مسويين ...</td>\n",
       "      <td>0</td>\n",
       "      <td>1</td>\n",
       "      <td>1</td>\n",
       "    </tr>\n",
       "    <tr>\n",
       "      <th>1</th>\n",
       "      <td>1</td>\n",
       "      <td>جدةالأن ايهيرب مسوين خصومات جبااارة حتى 60 لحق...</td>\n",
       "      <td>0</td>\n",
       "      <td>1</td>\n",
       "      <td>1</td>\n",
       "    </tr>\n",
       "    <tr>\n",
       "      <th>2</th>\n",
       "      <td>2</td>\n",
       "      <td>زودتهايافاجر ايهيرب مسوين خصومات جبااارة حتى 6...</td>\n",
       "      <td>1</td>\n",
       "      <td>1</td>\n",
       "      <td>1</td>\n",
       "    </tr>\n",
       "    <tr>\n",
       "      <th>3</th>\n",
       "      <td>3</td>\n",
       "      <td>مقاطعهفلاورد ايهيرب مسوين خصومات جداااا جميلة ...</td>\n",
       "      <td>0</td>\n",
       "      <td>1</td>\n",
       "      <td>1</td>\n",
       "    </tr>\n",
       "    <tr>\n",
       "      <th>4</th>\n",
       "      <td>4</td>\n",
       "      <td>اذا بدت خصومات ايهيرب علموني احب الخصومات</td>\n",
       "      <td>0</td>\n",
       "      <td>1</td>\n",
       "      <td>1</td>\n",
       "    </tr>\n",
       "    <tr>\n",
       "      <th>...</th>\n",
       "      <td>...</td>\n",
       "      <td>...</td>\n",
       "      <td>...</td>\n",
       "      <td>...</td>\n",
       "      <td>...</td>\n",
       "    </tr>\n",
       "    <tr>\n",
       "      <th>74</th>\n",
       "      <td>75</td>\n",
       "      <td>غسول الجسم الأفريقي أفضل صابون ينظف وينعم وريح...</td>\n",
       "      <td>2</td>\n",
       "      <td>3</td>\n",
       "      <td>1</td>\n",
       "    </tr>\n",
       "    <tr>\n",
       "      <th>75</th>\n",
       "      <td>76</td>\n",
       "      <td>كريم للتخلص من خطوط التمدد ،يحتاج الاستمرارية ...</td>\n",
       "      <td>1</td>\n",
       "      <td>3</td>\n",
       "      <td>1</td>\n",
       "    </tr>\n",
       "    <tr>\n",
       "      <th>76</th>\n",
       "      <td>77</td>\n",
       "      <td>مرطبات الشفايف ترطب وتنعم حيل وروائحها منعشة و...</td>\n",
       "      <td>0</td>\n",
       "      <td>3</td>\n",
       "      <td>1</td>\n",
       "    </tr>\n",
       "    <tr>\n",
       "      <th>77</th>\n",
       "      <td>78</td>\n",
       "      <td>ڤيتامين C مكمل غذائي مناسب للبالغين والأطفال ف...</td>\n",
       "      <td>0</td>\n",
       "      <td>3</td>\n",
       "      <td>1</td>\n",
       "    </tr>\n",
       "    <tr>\n",
       "      <th>78</th>\n",
       "      <td>79</td>\n",
       "      <td>اوميقا ثري بيفرق معاك بالتساقط</td>\n",
       "      <td>0</td>\n",
       "      <td>3</td>\n",
       "      <td>1</td>\n",
       "    </tr>\n",
       "  </tbody>\n",
       "</table>\n",
       "<p>79 rows × 5 columns</p>\n",
       "</div>"
      ],
      "text/plain": [
       "    index                                               Text  Likes  Type  \\\n",
       "0       0  جبت لكم خبر مُذهل رائع وجمييييل ايهيرب مسويين ...      0     1   \n",
       "1       1  جدةالأن ايهيرب مسوين خصومات جبااارة حتى 60 لحق...      0     1   \n",
       "2       2  زودتهايافاجر ايهيرب مسوين خصومات جبااارة حتى 6...      1     1   \n",
       "3       3  مقاطعهفلاورد ايهيرب مسوين خصومات جداااا جميلة ...      0     1   \n",
       "4       4          اذا بدت خصومات ايهيرب علموني احب الخصومات      0     1   \n",
       "..    ...                                                ...    ...   ...   \n",
       "74     75  غسول الجسم الأفريقي أفضل صابون ينظف وينعم وريح...      2     3   \n",
       "75     76  كريم للتخلص من خطوط التمدد ،يحتاج الاستمرارية ...      1     3   \n",
       "76     77  مرطبات الشفايف ترطب وتنعم حيل وروائحها منعشة و...      0     3   \n",
       "77     78  ڤيتامين C مكمل غذائي مناسب للبالغين والأطفال ف...      0     3   \n",
       "78     79                     اوميقا ثري بيفرق معاك بالتساقط      0     3   \n",
       "\n",
       "    Label  \n",
       "0       1  \n",
       "1       1  \n",
       "2       1  \n",
       "3       1  \n",
       "4       1  \n",
       "..    ...  \n",
       "74      1  \n",
       "75      1  \n",
       "76      1  \n",
       "77      1  \n",
       "78      1  \n",
       "\n",
       "[79 rows x 5 columns]"
      ]
     },
     "execution_count": 86,
     "metadata": {},
     "output_type": "execute_result"
    }
   ],
   "source": [
    "data"
   ]
  },
  {
   "cell_type": "code",
   "execution_count": 87,
   "id": "8104a10b",
   "metadata": {},
   "outputs": [],
   "source": [
    "#Splitting our data into features and targer\n",
    "feature_cols = [\"Likes\",\"Type\"]\n",
    "x = data[feature_cols] #fetures\n",
    "y = data.Label #target"
   ]
  },
  {
   "cell_type": "code",
   "execution_count": 88,
   "id": "6971786a",
   "metadata": {},
   "outputs": [],
   "source": [
    "#Create train and test sets\n",
    "x_train , x_test , y_train , y_test = train_test_split(x, y , test_size=0.3, random_state=0)"
   ]
  },
  {
   "cell_type": "code",
   "execution_count": 89,
   "id": "a6a32054",
   "metadata": {},
   "outputs": [
    {
     "data": {
      "text/plain": [
       "GaussianNB()"
      ]
     },
     "execution_count": 89,
     "metadata": {},
     "output_type": "execute_result"
    }
   ],
   "source": [
    "#Training the Naive Bayes model on the Training set\n",
    "clf = GaussianNB() \n",
    "clf.fit(x_train, y_train)"
   ]
  },
  {
   "cell_type": "code",
   "execution_count": 90,
   "id": "0e05496b",
   "metadata": {},
   "outputs": [
    {
     "name": "stdout",
     "output_type": "stream",
     "text": [
      "              precision    recall  f1-score   support\n",
      "\n",
      "           0       0.60      0.75      0.67         4\n",
      "           1       0.95      0.90      0.92        20\n",
      "\n",
      "    accuracy                           0.88        24\n",
      "   macro avg       0.77      0.82      0.79        24\n",
      "weighted avg       0.89      0.88      0.88        24\n",
      "\n"
     ]
    }
   ],
   "source": [
    "#Evalute the model, Predicting the Test set results\n",
    "y_pred = clf.predict(x_test) \n",
    "print(classification_report(y_test,y_pred))"
   ]
  },
  {
   "cell_type": "code",
   "execution_count": 91,
   "id": "a12cc992",
   "metadata": {},
   "outputs": [
    {
     "name": "stdout",
     "output_type": "stream",
     "text": [
      "Model accuracy score: %87.5000\n"
     ]
    }
   ],
   "source": [
    "#accuracy of the model\n",
    "print('Model accuracy score: %{0:0.4f}'.format(accuracy_score(y_test, y_pred)*100))"
   ]
  },
  {
   "cell_type": "code",
   "execution_count": 92,
   "id": "78f268f7",
   "metadata": {},
   "outputs": [
    {
     "name": "stdout",
     "output_type": "stream",
     "text": [
      "precision: 0.9474\n"
     ]
    }
   ],
   "source": [
    "#precision \n",
    "print('precision: {0:0.4f}'.format(precision_score(y_test, y_pred)))"
   ]
  },
  {
   "cell_type": "code",
   "execution_count": 93,
   "id": "fd3825b2",
   "metadata": {},
   "outputs": [
    {
     "name": "stdout",
     "output_type": "stream",
     "text": [
      "recall: 0.9000\n"
     ]
    }
   ],
   "source": [
    "#recall\n",
    "print('recall: {0:0.4f}'.format(recall_score(y_test, y_pred)))"
   ]
  },
  {
   "cell_type": "code",
   "execution_count": 94,
   "id": "e9067c20",
   "metadata": {},
   "outputs": [
    {
     "name": "stdout",
     "output_type": "stream",
     "text": [
      "f1: 0.9231\n"
     ]
    }
   ],
   "source": [
    "#f1\n",
    "print('f1: {0:0.4f}'.format(f1_score(y_test, y_pred)))"
   ]
  },
  {
   "cell_type": "code",
   "execution_count": 95,
   "id": "fddeb764",
   "metadata": {},
   "outputs": [
    {
     "name": "stdout",
     "output_type": "stream",
     "text": [
      "Confusion matrix\n",
      "\n",
      " [[ 3  1]\n",
      " [ 2 18]]\n",
      "\n",
      "True Positives(TP) =  3\n",
      "\n",
      "True Negatives(TN) =  18\n",
      "\n",
      "False Positives(FP) =  1\n",
      "\n",
      "False Negatives(FN) =  2\n"
     ]
    }
   ],
   "source": [
    "from sklearn.metrics import confusion_matrix\n",
    "\n",
    "cm = confusion_matrix(y_test, y_pred)\n",
    "\n",
    "print('Confusion matrix\\n\\n', cm)\n",
    "\n",
    "print('\\nTrue Positives(TP) = ', cm[0,0])\n",
    "\n",
    "print('\\nTrue Negatives(TN) = ', cm[1,1])\n",
    "\n",
    "print('\\nFalse Positives(FP) = ', cm[0,1])\n",
    "\n",
    "print('\\nFalse Negatives(FN) = ', cm[1,0])"
   ]
  },
  {
   "cell_type": "code",
   "execution_count": 96,
   "id": "7252077c",
   "metadata": {},
   "outputs": [
    {
     "data": {
      "text/plain": [
       "<AxesSubplot:>"
      ]
     },
     "execution_count": 96,
     "metadata": {},
     "output_type": "execute_result"
    },
    {
     "data": {
      "image/png": "[encoded data removed]",
      "text/plain": [
       "<Figure size 640x480 with 2 Axes>"
      ]
     },
     "metadata": {},
     "output_type": "display_data"
    }
   ],
   "source": [
    "import matplotlib.pyplot as plt # for data visualization purposes\n",
    "import seaborn as sns # for statistical data visualization\n",
    "%matplotlib inline\n",
    "cm_matrix = pd.DataFrame(data=cm, columns=['Actual Positive:1', 'Actual Negative:0'], \n",
    "                                 index=['Predict Positive:1', 'Predict Negative:0'])\n",
    "sns.heatmap(cm_matrix, annot=True, fmt='d', cmap='YlGnBu')"
   ]
  },
  {
   "cell_type": "code",
   "execution_count": null,
   "id": "02aa7a4d",
   "metadata": {},
   "outputs": [],
   "source": []
  }
 ],
 "metadata": {
  "kernelspec": {
   "display_name": "Python 3 (ipykernel)",
   "language": "python",
   "name": "python3"
  },
  "language_info": {
   "codemirror_mode": {
    "name": "ipython",
    "version": 3
   },
   "file_extension": ".py",
   "mimetype": "text/x-python",
   "name": "python",
   "nbconvert_exporter": "python",
   "pygments_lexer": "ipython3",
   "version": "3.9.13"
  }
 },
 "nbformat": 4,
 "nbformat_minor": 5
}
