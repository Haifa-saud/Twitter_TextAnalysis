{
 "cells": [
  {
   "cell_type": "code",
   "execution_count": 1,
   "id": "51780e8e",
   "metadata": {},
   "outputs": [],
   "source": [
    "import tweepy\n",
    "import pandas as pd\n",
    "import csv"
   ]
  },
  {
   "cell_type": "code",
   "execution_count": 2,
   "id": "9cbfefe1",
   "metadata": {},
   "outputs": [],
   "source": [
    "ACCESS_TOKEN = '#######'\n",
    "ACCESS_TOKEN_SECRET =' ######'\n",
    "CONSUMER_KEY = '#####'\n",
    "CONSUMER_SECRET = '####'\n",
    "\n"
   ]
  },
  {
   "cell_type": "code",
   "execution_count": 3,
   "id": "021d5539",
   "metadata": {},
   "outputs": [],
   "source": [
    "# OAuth process, using the keys and tokens\n",
    "auth = tweepy.OAuthHandler(CONSUMER_KEY, CONSUMER_SECRET)\n",
    "auth.set_access_token(ACCESS_TOKEN, ACCESS_TOKEN_SECRET)\n",
    "# Creation of the actual interface, using authentication\n",
    "api = tweepy.API(auth, wait_on_rate_limit=True)\n"
   ]
  },
  {
   "cell_type": "code",
   "execution_count": 4,
   "id": "cd0cba8a",
   "metadata": {},
   "outputs": [],
   "source": [
    "csvFile=open('tweets.csv','a',newline='',encoding='utf-8-sig')\n",
    "csvWriter=csv.writer(csvFile)"
   ]
  },
  {
   "cell_type": "code",
   "execution_count": 5,
   "id": "79af8956",
   "metadata": {},
   "outputs": [],
   "source": [
    "\n",
    "collect tweets on #iHerb\n",
    "for tweet in tweepy.Cursor(api.search_tweets,q=[\" ايهيرب ارخص\"],count=1000,\n",
    "                       lang=\"ar\",\n",
    ").items(1000):\n",
    "    if tweet.text.startswith(\"RT @\") == False:\n",
    "     print('--------------strart tweet---------------')\n",
    "     print (tweet.favorite_count, tweet.text)\n",
    "    # csvWriter.writerow([tweet.text,tweet.favorite_count])\n",
    "    \n",
    "\n",
    "     print('--------------end tweet---------------')\n"
   ]
  },
  {
   "cell_type": "code",
   "execution_count": 19,
   "id": "074ab659",
   "metadata": {},
   "outputs": [],
   "source": [
    "\n",
    "\n",
    "   \n",
    "\n",
    "f=open(u'tweets.csv', encoding='utf-8-sig')\n",
    "f.read()\n",
    "data = pd.read_csv(u'tweets.csv', encoding='utf-8')"
   ]
  },
  {
   "cell_type": "code",
   "execution_count": 20,
   "id": "cdc13bd0",
   "metadata": {},
   "outputs": [
    {
     "data": {
      "text/html": [
       "<div>\n",
       "<style scoped>\n",
       "    .dataframe tbody tr th:only-of-type {\n",
       "        vertical-align: middle;\n",
       "    }\n",
       "\n",
       "    .dataframe tbody tr th {\n",
       "        vertical-align: top;\n",
       "    }\n",
       "\n",
       "    .dataframe thead th {\n",
       "        text-align: right;\n",
       "    }\n",
       "</style>\n",
       "<table border=\"1\" class=\"dataframe\">\n",
       "  <thead>\n",
       "    <tr style=\"text-align: right;\">\n",
       "      <th></th>\n",
       "      <th>أحب طلب من… https://t.co/rXG14PtgLm\"</th>\n",
       "      <th>0</th>\n",
       "    </tr>\n",
       "  </thead>\n",
       "  <tbody>\n",
       "    <tr>\n",
       "      <th>0</th>\n",
       "      <td>بنات متئ بينزل عروض ايهيرب</td>\n",
       "      <td>0</td>\n",
       "    </tr>\n",
       "    <tr>\n",
       "      <th>1</th>\n",
       "      <td>عروض ماركات ايهيرب السنوي ينتهي اليوم الصبح 🔥🔥...</td>\n",
       "      <td>3</td>\n",
       "    </tr>\n",
       "    <tr>\n",
       "      <th>2</th>\n",
       "      <td>موقع ايهيرب عروض وخصومات جديدة \\n#الاتحاد_الشب...</td>\n",
       "      <td>0</td>\n",
       "    </tr>\n",
       "    <tr>\n",
       "      <th>3</th>\n",
       "      <td>عروض ايهيرب نزلتها في القناة ماقدر انزلها هنا\\...</td>\n",
       "      <td>3</td>\n",
       "    </tr>\n",
       "    <tr>\n",
       "      <th>4</th>\n",
       "      <td>تعرفون متئ ايهيرب يسون عروض</td>\n",
       "      <td>0</td>\n",
       "    </tr>\n",
       "    <tr>\n",
       "      <th>...</th>\n",
       "      <td>...</td>\n",
       "      <td>...</td>\n",
       "    </tr>\n",
       "    <tr>\n",
       "      <th>1171</th>\n",
       "      <td>@0_qd_ @g_iin7 @in23ln @onIy4girIs خذوه من صيد...</td>\n",
       "      <td>11</td>\n",
       "    </tr>\n",
       "    <tr>\n",
       "      <th>1172</th>\n",
       "      <td>اهخ يابنات هذا افضل مرطب يدين بالشتاء لاااازم ...</td>\n",
       "      <td>0</td>\n",
       "    </tr>\n",
       "    <tr>\n",
       "      <th>1173</th>\n",
       "      <td>@PIINK73 مقوي الرموش من سيفورا مقطعينه مدح الا...</td>\n",
       "      <td>0</td>\n",
       "    </tr>\n",
       "    <tr>\n",
       "      <th>1174</th>\n",
       "      <td>استفسار ٢١٩٧٢:\\n\\nمحتاره بشي هل منتجات العنايه...</td>\n",
       "      <td>12</td>\n",
       "    </tr>\n",
       "    <tr>\n",
       "      <th>1175</th>\n",
       "      <td>احب موقع STS شامل كل انواع العناية وسريعين بال...</td>\n",
       "      <td>50</td>\n",
       "    </tr>\n",
       "  </tbody>\n",
       "</table>\n",
       "<p>1176 rows × 2 columns</p>\n",
       "</div>"
      ],
      "text/plain": [
       "                   أحب طلب من… https://t.co/rXG14PtgLm\"   0\n",
       "0                            بنات متئ بينزل عروض ايهيرب   0\n",
       "1     عروض ماركات ايهيرب السنوي ينتهي اليوم الصبح 🔥🔥...   3\n",
       "2     موقع ايهيرب عروض وخصومات جديدة \\n#الاتحاد_الشب...   0\n",
       "3     عروض ايهيرب نزلتها في القناة ماقدر انزلها هنا\\...   3\n",
       "4                           تعرفون متئ ايهيرب يسون عروض   0\n",
       "...                                                 ...  ..\n",
       "1171  @0_qd_ @g_iin7 @in23ln @onIy4girIs خذوه من صيد...  11\n",
       "1172  اهخ يابنات هذا افضل مرطب يدين بالشتاء لاااازم ...   0\n",
       "1173  @PIINK73 مقوي الرموش من سيفورا مقطعينه مدح الا...   0\n",
       "1174  استفسار ٢١٩٧٢:\\n\\nمحتاره بشي هل منتجات العنايه...  12\n",
       "1175  احب موقع STS شامل كل انواع العناية وسريعين بال...  50\n",
       "\n",
       "[1176 rows x 2 columns]"
      ]
     },
     "execution_count": 20,
     "metadata": {},
     "output_type": "execute_result"
    }
   ],
   "source": [
    "data"
   ]
  },
  {
   "cell_type": "code",
   "execution_count": null,
   "id": "434b3e72",
   "metadata": {},
   "outputs": [],
   "source": []
  }
 ],
 "metadata": {
  "kernelspec": {
   "display_name": "Python 3 (ipykernel)",
   "language": "python",
   "name": "python3"
  },
  "language_info": {
   "codemirror_mode": {
    "name": "ipython",
    "version": 3
   },
   "file_extension": ".py",
   "mimetype": "text/x-python",
   "name": "python",
   "nbconvert_exporter": "python",
   "pygments_lexer": "ipython3",
   "version": "3.9.12"
  }
 },
 "nbformat": 4,
 "nbformat_minor": 5
}
